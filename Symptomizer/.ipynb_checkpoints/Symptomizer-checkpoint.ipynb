{
 "cells": [
  {
   "cell_type": "code",
   "execution_count": 2,
   "metadata": {},
   "outputs": [],
   "source": [
    "import numpy as np\n",
    "import pandas as pd\n"
   ]
  },
  {
   "cell_type": "code",
   "execution_count": 3,
   "metadata": {},
   "outputs": [],
   "source": [
    "data = {\"Disease\" : [\"Lung Cancer\", \"Colon Cancer\", \"Stomach Cancer\", \"Breast Cancer\", \"Prostate Cancer\"],\n",
    "        \"Chest Pain\" : [1, 0, 0, 0, 0],\n",
    "        \"Chronic cough\" : [1, 0, 0, 0, 0],\n",
    "        \"Worsening cough\" : [1, 0, 0, 0, 0],\n",
    "        \"Wheezing\" :  [1, 0, 0, 0, 0],\n",
    "        \"Problem breathing\" :  [1, 0, 0, 0, 0],\n",
    "        \"Bone pain\" :  [1, 0, 0, 0, 0],\n",
    "        \n",
    "        \"Constant pain in abdomen\" : [0, 1, 1, 0, 0],\n",
    "        \"Cramps\" : [0, 1, 0, 0, 0],\n",
    "        \"Gas pains\" : [0, 1, 0, 0, 0],\n",
    "        \"Blood in stool\" : [0, 1, 1, 0, 0],\n",
    "        \"Weight loss\" : [0, 1, 1, 0, 0],\n",
    "        \"Constipation\" : [0, 1, 0, 0, 0],\n",
    "        \"Regular Diarrhea\" : [0, 1, 0, 0, 0],\n",
    "        \n",
    "        \"Loss of Appetite\" : [0, 1, 1, 0, 0],\n",
    "        \"Stomach Pain\" : [0, 1, 1, 0, 0],\n",
    "        \"Nausea\" : [0, 0, 1, 0, 0],\n",
    "        \"Vomiting\" : [0, 0, 1, 0, 0],\n",
    "        \"Jaundice\" : [0, 0, 1, 0, 0],\n",
    "        \n",
    "        \"Lump in Breast Tissue or Underarm Area\" : [0, 0, 0, 1, 0],\n",
    "        \"Breast or Nipple Pain\" : [0, 0, 0, 1, 0], \n",
    "        \"Breast Swelling\" : [0, 0, 0, 1, 0],\n",
    "        \"Nipple Discharge\" : [0, 0, 0, 1, 0],\n",
    "        \"Redness or Thickening of Breast skin\" : [0, 0, 0, 1, 0],\n",
    "        \n",
    "        \"Blood in Urine\" : [0, 0, 0, 0, 1],\n",
    "        \"Erectile Dysfunction\" : [0, 0, 0, 0, 1],\n",
    "        \"Pain in lower body (hips, lower back, etc)\" : [0, 0, 0, 0, 1],\n",
    "        \"Problems Urinating\" : [0, 0, 0, 0, 1],\n",
    "        \"Urinating too Often\" : [0, 0, 0, 0, 1],\n",
    "        \n",
    "        \n",
    "        \"Smoking or passive smoking\": [1, 0, 0, 0, 0],\n",
    "        \"Long-term exposure to Asbestos fibers\": [1, 0, 0, 0, 0],\n",
    "        \"A person in family had Lung cancer\": [1, 0, 0, 0, 0],\n",
    "\n",
    "\n",
    "        \"Age > 50\" : [0, 1, 0, 0, 1],\n",
    "        \"Diet include meat\" : [0, 1, 0, 0, 1],\n",
    "        \"Diet contains too many processed foods\" : [0, 1, 0, 0, 0],\n",
    "        \"Type 2 Diabetes\" :[0, 1, 0, 0, 0],\n",
    "        \"A person in family had Colon cancer\" : [0, 1, 0, 0, 0], \n",
    "        \"Crohn’s Disease\" : [0, 1, 0, 0, 0],\n",
    "\n",
    "\n",
    "        \"A person in family had Stomach cancer\" : [0, 0, 1, 0, 0],\n",
    "        \"Is of Asian or South American decent\" : [0, 0, 1, 0, 0],\n",
    "        \"Smoking Tobacco\" : [0, 0, 1, 0, 0],\n",
    "        \"Eating too much meat\" : [0, 0, 1, 0, 0],\n",
    "        \"Drinking too much alcohol\" : [0, 0, 1, 0, 0],\n",
    "        \"Diet high in processed or salty foods\" : [0, 0, 1, 0, 0],\n",
    "\n",
    "\n",
    "        \"A person in family had Breast Cancer\" : [0, 0, 0, 1, 0], \n",
    "        \"High levels of the Hormone Estrogen\" : [0, 0, 0, 1, 0],\n",
    "        \"Obesity\" : [0, 0, 0, 1, 0], \n",
    "        \"High alcohol intake\" : [0, 0, 0, 1, 0],\n",
    "\n",
    "        \"Is of African American descent\" : [0, 0, 0, 0, 1],\n",
    "        \"Have high diets in dairy foods\" : [0, 0, 0, 0, 1],\n",
    "        \"A person in family had Breast Cancer\" : [0, 0, 0, 0, 1]\n",
    "\n",
    "       }"
   ]
  },
  {
   "cell_type": "code",
   "execution_count": 4,
   "metadata": {},
   "outputs": [],
   "source": [
    "data = pd.DataFrame(data)\n",
    "from sklearn.neighbors import KNeighborsClassifier\n",
    "from sklearn.preprocessing import LabelEncoder"
   ]
  },
  {
   "cell_type": "code",
   "execution_count": 5,
   "metadata": {},
   "outputs": [
    {
     "name": "stdout",
     "output_type": "stream",
     "text": [
      "(5, 50)\n"
     ]
    }
   ],
   "source": [
    "print(data.shape)\n",
    "\n"
   ]
  },
  {
   "cell_type": "code",
   "execution_count": 6,
   "metadata": {},
   "outputs": [
    {
     "data": {
      "text/plain": [
       "KNeighborsClassifier(algorithm='auto', leaf_size=30, metric='minkowski',\n",
       "           metric_params=None, n_jobs=1, n_neighbors=5, p=2,\n",
       "           weights='uniform')"
      ]
     },
     "execution_count": 6,
     "metadata": {},
     "output_type": "execute_result"
    }
   ],
   "source": [
    "knn = KNeighborsClassifier()\n",
    "le = LabelEncoder()\n",
    "Y = le.fit_transform(data[\"Disease\"])\n",
    "X = data.drop([\"Disease\"], axis = 1)\n",
    "knn.fit(X, Y)"
   ]
  },
  {
   "cell_type": "code",
   "execution_count": 7,
   "metadata": {},
   "outputs": [
    {
     "name": "stdout",
     "output_type": "stream",
     "text": [
      "[['Prostate Cancer' 'Stomach Cancer']]\n"
     ]
    },
    {
     "name": "stderr",
     "output_type": "stream",
     "text": [
      "C:\\ProgramData\\Anaconda3\\lib\\site-packages\\sklearn\\preprocessing\\label.py:151: DeprecationWarning: The truth value of an empty array is ambiguous. Returning False, but in future this will result in an error. Use `array.size > 0` to check that an array is not empty.\n",
      "  if diff:\n"
     ]
    }
   ],
   "source": [
    "def gen_X(X, symp):\n",
    "    out = np.zeros(49).reshape(-1,1)\n",
    "    for i in range(len(symp)):\n",
    "        out[X.columns.get_loc(symp[i])] = 1\n",
    "    return out\n",
    "P = gen_X(X , [\"Diet include meat\", \"Stomach Pain\"]).reshape(1,-1)\n",
    "print(le.inverse_transform(knn.kneighbors(P, 2)[1]))"
   ]
  },
  {
   "cell_type": "code",
   "execution_count": null,
   "metadata": {},
   "outputs": [],
   "source": []
  }
 ],
 "metadata": {
  "kernelspec": {
   "display_name": "Python 3",
   "language": "python",
   "name": "python3"
  },
  "language_info": {
   "codemirror_mode": {
    "name": "ipython",
    "version": 3
   },
   "file_extension": ".py",
   "mimetype": "text/x-python",
   "name": "python",
   "nbconvert_exporter": "python",
   "pygments_lexer": "ipython3",
   "version": "3.6.5"
  }
 },
 "nbformat": 4,
 "nbformat_minor": 2
}
