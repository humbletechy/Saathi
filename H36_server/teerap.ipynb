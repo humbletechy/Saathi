{
 "cells": [
  {
   "cell_type": "code",
   "execution_count": null,
   "metadata": {},
   "outputs": [
    {
     "name": "stdout",
     "output_type": "stream",
     "text": [
      " * Serving Flask app \"__main__\" (lazy loading)\n",
      " * Environment: production\n",
      "   WARNING: Do not use the development server in a production environment.\n",
      "   Use a production WSGI server instead.\n",
      " * Debug mode: on\n"
     ]
    },
    {
     "name": "stderr",
     "output_type": "stream",
     "text": [
      " * Running on http://localhost:5000/ (Press CTRL+C to quit)\n",
      "127.0.0.1 - - [26/Jan/2019 21:55:51] \"\u001b[37mGET / HTTP/1.1\u001b[0m\" 200 -\n"
     ]
    }
   ],
   "source": [
    "from flask import Flask, render_template, session\n",
    "from flask import jsonify\n",
    "import json\n",
    "\n",
    "\n",
    "app = Flask(__name__)\n",
    "\n",
    "\n",
    "text_file = open(\"SOS.txt\", \"w\")\n",
    "text_file.write(\"False\")\n",
    "text_file.close()\n",
    "@app.route('/')\n",
    "def hello_world():\n",
    "    return \"hello\"\n",
    "\n",
    "@app.route('/home', methods = ['GET'])\n",
    "def home():\n",
    "    text_file = open(\"SOS.txt\", \"r\")\n",
    "    status = text_file.read()\n",
    "    text_file.close()\n",
    "    if ( status == \"True\"):\n",
    "        text_file = open(\"SOS.txt\", \"w\")\n",
    "        text_file.write(\"False\")\n",
    "        text_file.close()\n",
    "        return jsonify({\"Response\" : True})\n",
    "    else:\n",
    "        return jsonify({\"Response\" : False})\n",
    "\n",
    "@app.route('/SOS',  methods = ['GET'])\n",
    "def result():\n",
    "    text_file = open(\"SOS.txt\", \"w\")\n",
    "    text_file.write(\"True\")\n",
    "    text_file.close()\n",
    "    return jsonify({\"Response\" : True})\n",
    "\n",
    "@app.route('/care',  methods = ['POST'])\n",
    "def get_care_arr():\n",
    "    if (request.method == \"POST\"):\n",
    "        data = request.get_json()\n",
    "        data = data.values()\n",
    "        print(data)\n",
    "        return jsonify({\"Response\" : True})\n",
    "\n",
    "if __name__ == '__main__':\n",
    "    app.run( debug = True, host='localhost', use_reloader=False)"
   ]
  },
  {
   "cell_type": "code",
   "execution_count": null,
   "metadata": {},
   "outputs": [],
   "source": [
    "\n"
   ]
  },
  {
   "cell_type": "code",
   "execution_count": null,
   "metadata": {},
   "outputs": [],
   "source": []
  }
 ],
 "metadata": {
  "kernelspec": {
   "display_name": "Python 3",
   "language": "python",
   "name": "python3"
  },
  "language_info": {
   "codemirror_mode": {
    "name": "ipython",
    "version": 3
   },
   "file_extension": ".py",
   "mimetype": "text/x-python",
   "name": "python",
   "nbconvert_exporter": "python",
   "pygments_lexer": "ipython3",
   "version": "3.6.5"
  }
 },
 "nbformat": 4,
 "nbformat_minor": 2
}
